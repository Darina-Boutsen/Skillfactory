{
 "cells": [
  {
   "cell_type": "markdown",
   "metadata": {},
   "source": [
    "Разумеется, мы можем вычислять область определения и с помощью библиотеки Python для символьных вычислений, с которой мы познакомились ранее — SymPy.\n",
    "\n",
    "Например, рассчитаем область определения для функции f(x)=1/x:"
   ]
  },
  {
   "cell_type": "code",
   "execution_count": 2,
   "metadata": {},
   "outputs": [
    {
     "data": {
      "text/latex": [
       "$\\displaystyle \\left(-\\infty, 0\\right) \\cup \\left(0, \\infty\\right)$"
      ],
      "text/plain": [
       "Union(Interval.open(-oo, 0), Interval.open(0, oo))"
      ]
     },
     "execution_count": 2,
     "metadata": {},
     "output_type": "execute_result"
    }
   ],
   "source": [
    "from sympy import Symbol, S #импортируем нужные функции для обозначения переменных\n",
    "from sympy.calculus.util import function_range #импортируем функцию для поиска области значения\n",
    "from sympy.calculus.util import continuous_domain #импортируем функцию для поиска области определения\n",
    "x = Symbol(\"x\") #определяем нашу переменную\n",
    "f = 1/x #определяем нашу функцию\n",
    "continuous_domain(f, x, S.Reals) #вычисляем область определения"
   ]
  },
  {
   "cell_type": "code",
   "execution_count": 3,
   "metadata": {},
   "outputs": [
    {
     "data": {
      "text/latex": [
       "$\\displaystyle \\left(0, \\infty\\right)$"
      ],
      "text/plain": [
       "Interval.open(0, oo)"
      ]
     },
     "execution_count": 3,
     "metadata": {},
     "output_type": "execute_result"
    }
   ],
   "source": [
    "from sympy import log\n",
    "x = Symbol(\"x\")\n",
    "f = log(x)/x\n",
    "continuous_domain(f, x, S.Reals)"
   ]
  },
  {
   "cell_type": "markdown",
   "metadata": {},
   "source": [
    "Разумеется, область значений мы также можем найти с помощью библиотеки SymPy. Например, сделаем это для функции sin(x):"
   ]
  },
  {
   "cell_type": "code",
   "execution_count": 4,
   "metadata": {},
   "outputs": [
    {
     "data": {
      "text/latex": [
       "$\\displaystyle \\left[-1, 1\\right]$"
      ],
      "text/plain": [
       "Interval(-1, 1)"
      ]
     },
     "execution_count": 4,
     "metadata": {},
     "output_type": "execute_result"
    }
   ],
   "source": [
    "from sympy import Symbol, S, sin #импортируем нужные функции для обозначения переменных\n",
    "from sympy.calculus.util import function_range #импортируем функцию для поиска области значений\n",
    "x = Symbol(\"x\")\n",
    "f = sin(x)\n",
    "function_range(f, x, S.Reals)"
   ]
  },
  {
   "cell_type": "code",
   "execution_count": 5,
   "metadata": {},
   "outputs": [
    {
     "data": {
      "text/latex": [
       "$\\displaystyle \\left[- 2 e, \\infty\\right)$"
      ],
      "text/plain": [
       "Interval(-2*E, oo)"
      ]
     },
     "execution_count": 5,
     "metadata": {},
     "output_type": "execute_result"
    }
   ],
   "source": [
    "from sympy import Symbol, S #импортируем нужные функции для обозначения переменных\n",
    "from sympy.calculus.util import function_range #импортируем функцию для поиска области значений\n",
    "from sympy import exp #добавляем функцию для вычисления экспоненциальной функции\n",
    "x = Symbol(\"x\")\n",
    "f = (x*x-3)/(exp(x))\n",
    "function_range(f, x, S.Reals)"
   ]
  },
  {
   "cell_type": "markdown",
   "metadata": {},
   "source": [
    "Для того чтобы найти эти точки пересечения, мы также можем использовать библиотеку SymPy. Например, найдём точки пересечения для функции:\n",
    "f(x)=x**2+5x+4\n",
    "\n",
    "Сначала найдём точку пересечения с осью ординат. Для этого просто подставим 0 вместо значения x:"
   ]
  },
  {
   "cell_type": "code",
   "execution_count": 6,
   "metadata": {},
   "outputs": [
    {
     "data": {
      "text/latex": [
       "$\\displaystyle 4$"
      ],
      "text/plain": [
       "4"
      ]
     },
     "execution_count": 6,
     "metadata": {},
     "output_type": "execute_result"
    }
   ],
   "source": [
    "x = Symbol(\"x\")\n",
    "f = x*x+5*x+4\n",
    "f.subs(x, 0)"
   ]
  },
  {
   "cell_type": "code",
   "execution_count": 7,
   "metadata": {},
   "outputs": [
    {
     "data": {
      "text/latex": [
       "$\\displaystyle \\left\\{-4, -1\\right\\}$"
      ],
      "text/plain": [
       "{-4, -1}"
      ]
     },
     "execution_count": 7,
     "metadata": {},
     "output_type": "execute_result"
    }
   ],
   "source": [
    "# Теперь найдём точку пересечения с осью абсцисс. Для этого решим уравнение, в котором приравняем нашу функцию к нулю:\n",
    "\n",
    "from sympy import solveset, Eq\n",
    "solveset(Eq(x*x+5*x+4, 0), x)"
   ]
  },
  {
   "cell_type": "code",
   "execution_count": 14,
   "metadata": {},
   "outputs": [
    {
     "data": {
      "text/latex": [
       "$\\displaystyle \\left(-\\infty, - \\frac{3}{10}\\right] \\cup \\left(0, \\infty\\right)$"
      ],
      "text/plain": [
       "Union(Interval(-oo, -3/10), Interval.open(0, oo))"
      ]
     },
     "execution_count": 14,
     "metadata": {},
     "output_type": "execute_result"
    }
   ],
   "source": [
    "from sympy import Symbol, S #импортируем нужные функции для обозначения переменных\n",
    "from sympy.calculus.util import function_range\n",
    "x = Symbol(\"x\")\n",
    "f = 3/(x*x-10)\n",
    "function_range(f, x, S.Reals)"
   ]
  },
  {
   "cell_type": "code",
   "execution_count": 9,
   "metadata": {},
   "outputs": [
    {
     "data": {
      "text/latex": [
       "$\\displaystyle \\left[1, \\infty\\right)$"
      ],
      "text/plain": [
       "Interval(1, oo)"
      ]
     },
     "execution_count": 9,
     "metadata": {},
     "output_type": "execute_result"
    }
   ],
   "source": [
    "function_range(f, x, S.Reals)"
   ]
  },
  {
   "cell_type": "code",
   "execution_count": 10,
   "metadata": {},
   "outputs": [
    {
     "data": {
      "text/latex": [
       "$\\displaystyle \\left\\{-4, 2\\right\\}$"
      ],
      "text/plain": [
       "{-4, 2}"
      ]
     },
     "execution_count": 10,
     "metadata": {},
     "output_type": "execute_result"
    }
   ],
   "source": [
    "from sympy import solveset, Eq\n",
    "solveset(Eq(x**2+2*x-8, 0), x)"
   ]
  },
  {
   "cell_type": "code",
   "execution_count": 2,
   "metadata": {},
   "outputs": [
    {
     "data": {
      "text/latex": [
       "$\\displaystyle \\frac{2 x + 5}{x^{2} + 5 x} + e^{\\sin{\\left(x \\right)}} \\cos{\\left(x \\right)}$"
      ],
      "text/plain": [
       "(2*x + 5)/(x**2 + 5*x) + exp(sin(x))*cos(x)"
      ]
     },
     "execution_count": 2,
     "metadata": {},
     "output_type": "execute_result"
    }
   ],
   "source": [
    "# Вычислить производную для функции f(x) = In(x**2 + 5x) + e**sin(x).\n",
    "\n",
    "import sympy\n",
    "from sympy import diff, sin, exp, log, Symbol\n",
    "x = sympy.Symbol(\"x\")\n",
    "expr = log(x**2 + 5*x) + exp(sin(x))\n",
    "expr.diff(x)"
   ]
  },
  {
   "cell_type": "code",
   "execution_count": 3,
   "metadata": {},
   "outputs": [
    {
     "data": {
      "text/latex": [
       "$\\displaystyle - e^{\\sin{\\left(x \\right)}} \\sin{\\left(x \\right)} + e^{\\sin{\\left(x \\right)}} \\cos^{2}{\\left(x \\right)} + 2$"
      ],
      "text/plain": [
       "-exp(sin(x))*sin(x) + exp(sin(x))*cos(x)**2 + 2"
      ]
     },
     "execution_count": 3,
     "metadata": {},
     "output_type": "execute_result"
    }
   ],
   "source": [
    "# Мы можем найти вторую производную (производную второго порядка) с помощью библиотеки SymPy. Надо лишь добавить в \n",
    "# метод diff() ещё один аргумент — порядок дифференцирования. Так как мы ищем производную второго порядка, то ставим \n",
    "# в качестве аргумента 2:\n",
    "\n",
    "import sympy\n",
    "from sympy import diff, sin,exp, log, Symbol\n",
    "x = sympy.Symbol(\"x\")\n",
    "expr = (x**2 + 5*x) + exp(sin(x))\n",
    "expr.diff(x,2)"
   ]
  },
  {
   "cell_type": "code",
   "execution_count": 17,
   "metadata": {},
   "outputs": [
    {
     "data": {
      "text/latex": [
       "$\\displaystyle 2 - \\frac{1}{x^{2}}$"
      ],
      "text/plain": [
       "2 - 1/x**2"
      ]
     },
     "execution_count": 17,
     "metadata": {},
     "output_type": "execute_result"
    }
   ],
   "source": [
    "# Мы можем найти вторую производную (производную второго порядка) с помощью библиотеки SymPy. Надо лишь добавить в \n",
    "# метод diff() ещё один аргумент — порядок дифференцирования. Так как мы ищем производную второго порядка, то ставим \n",
    "# в качестве аргумента 2:\n",
    "\n",
    "import sympy\n",
    "from sympy import diff, sin,exp, log, Symbol\n",
    "x = sympy.Symbol(\"x\")\n",
    "expr = x**2 + log(x)\n",
    "expr.diff(x, 2)"
   ]
  },
  {
   "cell_type": "code",
   "execution_count": 15,
   "metadata": {},
   "outputs": [
    {
     "data": {
      "text/latex": [
       "$\\displaystyle - \\frac{2 x^{2}}{\\left(x^{2} + 1\\right)^{2}} + \\frac{1}{x^{2} + 1}$"
      ],
      "text/plain": [
       "-2*x**2/(x**2 + 1)**2 + 1/(x**2 + 1)"
      ]
     },
     "execution_count": 15,
     "metadata": {},
     "output_type": "execute_result"
    }
   ],
   "source": [
    "import sympy\n",
    "from sympy import diff, sin, exp, log, Symbol\n",
    "x = sympy.Symbol(\"x\")\n",
    "expr = (x)/(x**2+1)\n",
    "expr.diff(x)"
   ]
  },
  {
   "cell_type": "code",
   "execution_count": 21,
   "metadata": {},
   "outputs": [
    {
     "name": "stderr",
     "output_type": "stream",
     "text": [
      "C:\\Users\\spbda\\AppData\\Local\\Temp\\ipykernel_15232\\2629819194.py:5: RuntimeWarning: invalid value encountered in log\n",
      "  y = x**2 + np.log(x)  # вычисляем значения y\n"
     ]
    },
    {
     "data": {
      "image/png": "[encoded data removed]",
      "text/plain": [
       "<Figure size 640x480 with 1 Axes>"
      ]
     },
     "metadata": {},
     "output_type": "display_data"
    }
   ],
   "source": [
    "import matplotlib.pyplot as plt\n",
    "import numpy as np\n",
    "\n",
    "x = np.linspace(-10, 10, 100)  # задаём диапазон значений x\n",
    "y = x**2 + np.log(x)  # вычисляем значения y\n",
    "plt.plot(x, y)  # строим график\n",
    "plt.xlabel('x')  # подписываем ось x\n",
    "plt.ylabel('y')  # подписываем ось y\n",
    "plt.title('График функции y=x^2')  # добавляем заголовок\n",
    "plt.grid()  # добавляем сетку на график\n",
    "plt.show()  # отображаем график"
   ]
  },
  {
   "cell_type": "markdown",
   "metadata": {},
   "source": [
    "ФУЕКЦИЯ ЛАГРАНЖА\n",
    "У нас есть два станка для производства пластиковых упаковок. Станки разных моделей, поэтому при их использовании получаются разные издержки, зависящие от произведённых упаковок и выражаемые следующими функциями:\n",
    "\n",
    "Здесь a — это количество упаковок, произведённых на первом станке, а b — количество упаковок, произведённых на втором станке.\n",
    "\n",
    "Нам заказали 200 упаковок. Мы хотим выполнить заказ, минимизировав расходы на изготовление товаров. Чтобы узнать, как мы можем сэкономить, необходимо решить задачу оптимизации."
   ]
  },
  {
   "cell_type": "code",
   "execution_count": 1,
   "metadata": {},
   "outputs": [
    {
     "name": "stdout",
     "output_type": "stream",
     "text": [
      "Целевая функция для аргументов a и b :\n",
      " f =  3*a**2 + a + 5*b**2 + 4*b\n",
      "Функция ограничений:  a + b - 200 = 0\n",
      "Функция Лагранжа :\n",
      "  3*a**2 + a + 5*b**2 + 4*b + w*(a + b - 200)\n",
      "df/da = 6*a + w + 1 = 0\n",
      "df/db = 10*b + w + 4 = 0\n",
      "df/dw = a + b - 200 = 0\n",
      "Стационарная точка M(x,y):\n",
      " 125.1875 , 74.8125\n"
     ]
    }
   ],
   "source": [
    "from sympy import *\n",
    "a,b,w=symbols(' a b w' )\n",
    "g = 3*a**2 + a + 4*b + 5*b**2\n",
    "print('Целевая функция для аргументов a и b :\\n f = ', g)\n",
    "q = a + b - 200\n",
    "print('Функция ограничений: ', q,'= 0')\n",
    "f = 3*a**2 + a + 4*b + 5*b**2 + w*(a + b - 200)\n",
    "print('Функция Лагранжа :\\n ',f)\n",
    "fa = f.diff(a)\n",
    "print('df/da =',fa,'= 0')\n",
    "fb = f.diff(b)\n",
    "print('df/db =',fb,'= 0')\n",
    "fw = f.diff(w)\n",
    "print('df/dw =',fw,'= 0')\n",
    "sols = solve([fa,fb,fw],a,b,w)\n",
    "print('Стационарная точка M(x,y):\\n',float(sols[a]),',',float(sols[b]))"
   ]
  },
  {
   "cell_type": "markdown",
   "metadata": {},
   "source": [
    "Представьте, что вы решаете задачу классификации методом опорных векторов и хотите оценить расстояние от объекта до разделяющей прямой с помощью метода Лагранжа. Если объект имеет координаты (2;1), а прямая задана уравнением x+y=1, то каким будет квадрат расстояния от этого объекта до прямой?"
   ]
  },
  {
   "cell_type": "code",
   "execution_count": 3,
   "metadata": {},
   "outputs": [
    {
     "data": {
      "text/plain": [
       "[(1.00000000000000, 0.0, 0.707106781186548)]"
      ]
     },
     "execution_count": 3,
     "metadata": {},
     "output_type": "execute_result"
    }
   ],
   "source": [
    "from sympy import *\n",
    "x,y,w=symbols(' x y w' )\n",
    "g = ((x-2)**2+(y-1)**2)**(0.5)\n",
    "q = x + y - 1\n",
    "f = ((x-2)**2+(y-1)**2)**(0.5) + w*(x + y - 1)\n",
    "fx = f.diff(x)\n",
    "fy = f.diff(y)\n",
    "fw = f.diff(w)\n",
    "sols = solve([fx,fy,fw],x,y,w)\n",
    "sols"
   ]
  },
  {
   "cell_type": "markdown",
   "metadata": {},
   "source": [
    "Длина забора — 20 метров. Какова максимальная площадь прямоугольного участка, который можно огородить? Хотя бы одна из сторон прямоугольника должна быть не меньше 6."
   ]
  },
  {
   "cell_type": "code",
   "execution_count": 4,
   "metadata": {},
   "outputs": [
    {
     "name": "stdout",
     "output_type": "stream",
     "text": [
      "[(6, 4, 0, 6, 2)]\n"
     ]
    }
   ],
   "source": [
    "# Найдём x1 и x2. Это можно сделать с помощью следующего кода:\n",
    "\n",
    "# Импортируем все необходимые функции из библиотеки SymPy\n",
    "from sympy import init_printing, solve, symbols\n",
    "\n",
    "# Подключаем аккуратный вывод формул\n",
    "init_printing()\n",
    "\n",
    "# Создаём переменные\n",
    "x1, x2, x1_tilde, lambda1, lambda2 = symbols(\n",
    "    \"x_1 x_2 xtilde_2 \\lambda_1 \\lambda_2\", real=True\n",
    ")\n",
    "\n",
    "# Пишем систему уравнений для переменных\n",
    "dLdx1 = -x2 + lambda1 - lambda2\n",
    "dLdx2 = -x1 + lambda1\n",
    "dLdx1_tilde = 2 * lambda2 * x1_tilde\n",
    "dLdlambda1 = x1 + x2 - 10\n",
    "dLdlambda2 = -x1 + 6 + x1_tilde**2\n",
    "\n",
    "# Решаем систему уравнений с помощью функции solve\n",
    "solution = solve(\n",
    "    [dLdx1, dLdx2, dLdx1_tilde, dLdlambda1, dLdlambda2],\n",
    "    x1,\n",
    "    x2,\n",
    "    x1_tilde,\n",
    "    lambda1,\n",
    "    lambda2,\n",
    ")\n",
    "\n",
    "print(solution)"
   ]
  },
  {
   "cell_type": "markdown",
   "metadata": {},
   "source": [
    "Прямоугольный параллелепипед имеет объём 1м**2. Чему равна минимальная площадь его поверхности?"
   ]
  },
  {
   "cell_type": "code",
   "execution_count": 5,
   "metadata": {},
   "outputs": [
    {
     "name": "stdout",
     "output_type": "stream",
     "text": [
      "(1, 1, 1, -4)\n"
     ]
    }
   ],
   "source": [
    "from sympy import *\n",
    "\n",
    "a,b,c,w=symbols('a b c w')\n",
    "g = 2*(a*b + a*c + b*c)\n",
    "\n",
    "L = 2*(a*b + a*c + b*c) + w*(a*b*c - 1)\n",
    "\n",
    "L_a = L.diff(a)\n",
    "L_b = L.diff(b)\n",
    "L_c = L.diff(c)\n",
    "L_w = L.diff(w)\n",
    "\n",
    "print(solve([L_a, L_b, L_c, L_w], a, b, c, w)[0])"
   ]
  }
 ],
 "metadata": {
  "kernelspec": {
   "display_name": "Python 3",
   "language": "python",
   "name": "python3"
  },
  "language_info": {
   "codemirror_mode": {
    "name": "ipython",
    "version": 3
   },
   "file_extension": ".py",
   "mimetype": "text/x-python",
   "name": "python",
   "nbconvert_exporter": "python",
   "pygments_lexer": "ipython3",
   "version": "3.11.4"
  }
 },
 "nbformat": 4,
 "nbformat_minor": 2
}
