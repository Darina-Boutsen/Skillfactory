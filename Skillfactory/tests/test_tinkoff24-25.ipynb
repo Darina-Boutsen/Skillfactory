{
 "cells": [
  {
   "cell_type": "code",
   "execution_count": 9,
   "metadata": {},
   "outputs": [
    {
     "name": "stdout",
     "output_type": "stream",
     "text": [
      "YES\n",
      "1 2 3 4 5\n"
     ]
    }
   ],
   "source": [
    "\n",
    "\n",
    "data = [\n",
    "    input(),\n",
    "    input()\n",
    "]\n",
    "n = int(data[0])\n",
    "days = data[1].split(' ')\n",
    "days = list(map(int, days))\n",
    "\n",
    "if days[0] == -1:\n",
    "  days[0] = 1\n",
    "\n",
    "if n:\n",
    "    for i in range(1, len(days)):\n",
    "      if days[i] == -1:\n",
    "        days[i] = days[i-1] + 1\n",
    "      elif days[i] <= days[i-1]:\n",
    "        print(\"NO\")\n",
    "    else:\n",
    "        for i in range(1, len(days)):\n",
    "          days[i] -= days[i-1]\n",
    "        print(\"YES\")\n",
    "        print(\" \".join(map(str, range(1, n+1))))"
   ]
  },
  {
   "cell_type": "code",
   "execution_count": null,
   "metadata": {},
   "outputs": [],
   "source": [
    "data = input()\n",
    "def prime_factors(num): i = 2 factors = [] while i <= num: if num % i == 0: factors.append(i) num = num / i else: i += 1 return factors\n",
    "Источник: https://www.easydoit.ru/python/kak-najti-vse-deliteli-chisla-v-python-prostye-i-s-ispolzovaniem-biblioteki/\n"
   ]
  },
  {
   "cell_type": "code",
   "execution_count": 18,
   "metadata": {},
   "outputs": [
    {
     "name": "stdout",
     "output_type": "stream",
     "text": [
      "3\n",
      "[3]\n",
      "4\n",
      "[2, 2]\n",
      "5\n",
      "[5]\n",
      "6\n",
      "[2, 3]\n",
      "2\n"
     ]
    }
   ],
   "source": [
    "data = input()\n",
    "def prime_factors(num): \n",
    "    i = 2 \n",
    "    factors = [] \n",
    "    while i <= num: \n",
    "        if num % i == 0: \n",
    "            factors.append(i) \n",
    "            num = num / i \n",
    "        else: i += 1 \n",
    "    return factors\n",
    "\n",
    "result = 0\n",
    "for num in range(int(data.split(' ')[0]), int(data.split(' ')[1])+1):\n",
    "    print(num)\n",
    "    factors = prime_factors(num)\n",
    "    print(factors)\n",
    "    if len(factors)+2 == 2:\n",
    "        result += 1\n",
    "print(result)"
   ]
  },
  {
   "cell_type": "code",
   "execution_count": 34,
   "metadata": {},
   "outputs": [
    {
     "name": "stdout",
     "output_type": "stream",
     "text": [
      "1\n"
     ]
    }
   ],
   "source": [
    "data = input()\n",
    "\n",
    "def find_divisors(n): \n",
    "    divisors = [] \n",
    "    for i in range(1, n+1): \n",
    "        if n % i == 0: \n",
    "            divisors.append(i) \n",
    "    return divisors\n",
    "\n",
    "def is_prime(x):\n",
    "    for i in range(2, (x//2)+1):\n",
    "        if x % i == 0:\n",
    "            return False\n",
    "    return True\n",
    "\n",
    "result = 0\n",
    "for num in range(int(data.split(' ')[0]), int(data.split(' ')[1])+1):\n",
    "    factors = find_divisors(num)\n",
    "    if len(factors) > 2:\n",
    "        if is_prime(len(factors)) == True:\n",
    "            result += 1\n",
    "print(result)"
   ]
  },
  {
   "cell_type": "code",
   "execution_count": null,
   "metadata": {},
   "outputs": [],
   "source": []
  },
  {
   "cell_type": "code",
   "execution_count": 13,
   "metadata": {},
   "outputs": [
    {
     "name": "stdout",
     "output_type": "stream",
     "text": [
      "1 2 3 4 5 6 8 9 11\n"
     ]
    }
   ],
   "source": [
    "data = input()\n",
    "\n",
    "numbers = set()\n",
    "sets = data.split(',')\n",
    "for s in sets:\n",
    "    if int(len(s)) == 3:\n",
    "        numbers.update(range(int(s[0]), int(s[2])+1))\n",
    "    else:\n",
    "        numbers.add(int(s))\n",
    "print(*numbers)\n"
   ]
  },
  {
   "cell_type": "code",
   "execution_count": null,
   "metadata": {},
   "outputs": [],
   "source": [
    "set_n = []\n",
    "for n in numbers:\n",
    "    if len(n) > 1:\n",
    "        for m in n:\n",
    "            set_n.append(m)\n",
    "    else:\n",
    "        set_n.append(n)\n",
    "set_n"
   ]
  },
  {
   "cell_type": "code",
   "execution_count": 22,
   "metadata": {},
   "outputs": [
    {
     "data": {
      "text/plain": [
       "[[12, 5], [1, 4, 6]]"
      ]
     },
     "execution_count": 22,
     "metadata": {},
     "output_type": "execute_result"
    }
   ],
   "source": [
    "n = input()\n",
    "nums = []\n",
    "for i in range(int(n)):\n",
    "    nums.append(list(input().split(' ')))\n",
    "numbers = []\n",
    "for n in nums:\n",
    "    n = list(map(int, n))\n",
    "    numbers.append(n)\n",
    "\n",
    "    \n",
    "    \n",
    "time0 = 0\n",
    "for i in range(n):\n",
    "    for num in numbers:\n",
    "        time0 = num[0]\n",
    "        if len(num) > 1:\n",
    "            for j in range(1, len(num)):\n",
    "                actual_time = []\n",
    "                numbers[num[j]]"
   ]
  },
  {
   "cell_type": "code",
   "execution_count": 39,
   "metadata": {},
   "outputs": [
    {
     "name": "stdout",
     "output_type": "stream",
     "text": [
      "as\n"
     ]
    }
   ],
   "source": [
    "data = [\n",
    "    input(),\n",
    "    input(),\n",
    "    input()\n",
    "]\n",
    "\n",
    "order = data[0]\n",
    "order = order[len(order)::-1]\n",
    "rules = data[1]\n",
    "n = int(data[2])\n",
    "k=0\n",
    "result=''\n",
    "for symbol in order:\n",
    "    if symbol in rules:\n",
    "        k = k+1\n",
    "        result=result+symbol\n",
    "    else:\n",
    "        k = 0\n",
    "        result=''\n",
    "    if k == n:\n",
    "        for r in rules:\n",
    "            if r in result:\n",
    "                pass\n",
    "            else:\n",
    "                k = 0\n",
    "                result='' \n",
    "                break\n",
    "        break            \n",
    "print(result[len(result)::-1])"
   ]
  },
  {
   "cell_type": "code",
   "execution_count": 6,
   "metadata": {},
   "outputs": [
    {
     "name": "stdout",
     "output_type": "stream",
     "text": [
      "Yes\n"
     ]
    }
   ],
   "source": [
    "string = input()\n",
    "if string[0] == 'R':\n",
    "    print('Yes')\n",
    "elif string[0] == 'M':\n",
    "    print('No')\n",
    "elif (string[1] == 'R') and (string[2] == 'M'):\n",
    "    print('Yes')\n",
    "else:\n",
    "    print('No')"
   ]
  },
  {
   "cell_type": "code",
   "execution_count": 8,
   "metadata": {},
   "outputs": [
    {
     "name": "stdout",
     "output_type": "stream",
     "text": [
      "14\n",
      "67\n",
      "-1\n"
     ]
    }
   ],
   "source": [
    "n = input()\n",
    "for num in range(int(n)):\n",
    "    day = input()\n",
    "    day = int(day)\n",
    "    if day <= 6:\n",
    "        print(-1)\n",
    "    elif day % 3 == 1:\n",
    "        print(day)\n",
    "    elif day % 3 == 0:\n",
    "        print(day-1)"
   ]
  },
  {
   "cell_type": "code",
   "execution_count": null,
   "metadata": {},
   "outputs": [
    {
     "name": "stdout",
     "output_type": "stream",
     "text": [
      "['6']\n"
     ]
    }
   ],
   "source": [
    "days = input()\n",
    "days = days.split(' ')\n",
    "m = days[1]\n",
    "n = days[0]\n",
    "km = input()\n",
    "km = km.split(' ')\n",
    "a1 = int(km[0])\n",
    "a2 = int(km[1])\n",
    "km.remove(km[0])\n",
    "km.remove(km[0])\n",
    "b = km\n",
    "\n",
    "m=0\n",
    "while m < int(good_days):\n",
    "for day in range(int(good_days)):\n",
    "    if (day >= km1) and (day <= km2):\n",
    "        m+=1"
   ]
  },
  {
   "cell_type": "code",
   "execution_count": null,
   "metadata": {},
   "outputs": [],
   "source": []
  },
  {
   "cell_type": "code",
   "execution_count": 21,
   "metadata": {},
   "outputs": [
    {
     "name": "stdout",
     "output_type": "stream",
     "text": [
      "2\n"
     ]
    }
   ],
   "source": [
    "def solve():\n",
    "    import sys\n",
    "    days = input()\n",
    "    days = days.split(' ')\n",
    "    m = int(days[1])\n",
    "    n = int(days[0])\n",
    "    km = input()\n",
    "    km = km.split(' ')\n",
    "    a1 = int(km[0])\n",
    "    a2 = int(km[1])\n",
    "    km.remove(km[0])\n",
    "    km.remove(km[0])\n",
    "    b = km\n",
    "    b = list(map(int, b))\n",
    "    \n",
    "    # Если m == 0 (не требуется хороших дней), ответ ноль\n",
    "    # (в задаче m >= 1, но пусть будет проверка на всякий случай)\n",
    "    if m <= 0:\n",
    "        print(0)\n",
    "        return\n",
    "    \n",
    "    # Отсортируем b\n",
    "    b.sort()\n",
    "    \n",
    "    # Построим множество кандидатов для p и q\n",
    "    candidates_set = {a1, a2}\n",
    "    candidates_set.update(b)\n",
    "    # Превратим в список и отсортируем\n",
    "    candidates = sorted(candidates_set)\n",
    "    \n",
    "    # Префиксные суммы для b, чтобы быстро считать суммы \"p - b[i]\" или \"b[i] - q\"\n",
    "    # Но здесь для наглядности можно и без префиксных сумм, делая сортировку, —\n",
    "    #  а для больших n лучше было бы оптимизировать\n",
    "    #  (здесь - показываем &laquo;честный&raquo; подход).\n",
    "    \n",
    "    INF = 10**20\n",
    "    answer = INF\n",
    "    \n",
    "    # Быстрая функция через бинарный поиск: сколько элементов b лежит >= x\n",
    "    # (возвращает индекс leftPos)\n",
    "    import bisect\n",
    "    def leftPos(x):\n",
    "        # Возвращает индекс первого элемента b, который >= x\n",
    "        # если все < x, вернёт len(b)\n",
    "        return bisect.bisect_left(b, x)\n",
    "    def rightPos(x):\n",
    "        # Возвращает индекс последнего элемента b, который <= x\n",
    "        # если все > x, вернёт -1\n",
    "        return bisect.bisect_right(b, x) - 1\n",
    "    \n",
    "    for p in candidates:\n",
    "        # Чтобы не перебирать q < p, будем идти только q >= p\n",
    "        # используем двухуказательную идею: индекс для q двигается не назад, а только вперёд.\n",
    "        # Однако при самом примитивном подходе будет все равно O(n^2).\n",
    "        #\n",
    "        # Для упрощения — просто перебираем q в том же списке candidates, не нарушая q >= p.\n",
    "        \n",
    "        # Но если заранее p > a2 и хотим сдвигать a2 до p, \n",
    "        #   то |a2 - q| будет только расти при росте q и т.д.\n",
    "        # Это подробности оптимизации; мы для наглядности делаем полный проход.\n",
    "        \n",
    "        left_p = leftPos(p)\n",
    "        # left_p - индекс первого элемента >= p\n",
    "        # Все b[:left_p] будут < p, значит, чтобы их \"загнать\" внутрь, \n",
    "        # стоимость costLeft = (p - b_i).\n",
    "        \n",
    "        for q in candidates:\n",
    "            if q < p:\n",
    "                continue\n",
    "            \n",
    "            cost12 = abs(a1 - p) + abs(a2 - q)\n",
    "            \n",
    "            rpos = rightPos(q)\n",
    "            if rpos < 0 or rpos < left_p:\n",
    "                # Значит либо вообще нет элементов >= p, либо все они > q\n",
    "                insideCount = 0\n",
    "            else:\n",
    "                # внутри [p,q] лежат элементы b[left_p .. rpos], если left_p <= rpos\n",
    "                insideCount = max(0, rpos - left_p + 1)\n",
    "            \n",
    "            if insideCount >= m:\n",
    "                # Уже достаточно \"бесплатных\" внутри [p,q]\n",
    "                answer = min(answer, cost12)\n",
    "                continue\n",
    "            \n",
    "            need = m - insideCount\n",
    "            \n",
    "            left_costs = []\n",
    "            for i in range(left_p):\n",
    "                # b[i] < p\n",
    "                left_costs.append(p - b[i])  # стоимость загнать в [p,q]\n",
    "            left_costs.sort()\n",
    "            \n",
    "            right_costs = []\n",
    "            start_r = rpos + 1\n",
    "            for i in range(start_r, len(b)):\n",
    "                right_costs.append(b[i] - q)\n",
    "            right_costs.sort()\n",
    "            \n",
    "            iL = 0\n",
    "            iR = 0\n",
    "            cur_sum = 0\n",
    "            taken = 0\n",
    "            while taken < need:\n",
    "                cL = left_costs[iL] if iL < len(left_costs) else INF\n",
    "                cR = right_costs[iR] if iR < len(right_costs) else INF\n",
    "                best = min(cL, cR)\n",
    "                if best == INF:\n",
    "                    cur_sum = INF\n",
    "                    break\n",
    "                cur_sum += best\n",
    "                taken += 1\n",
    "                if cL < cR:\n",
    "                    iL += 1\n",
    "                else:\n",
    "                    iR += 1\n",
    "            \n",
    "            if cur_sum == INF:\n",
    "                continue\n",
    "            \n",
    "            total_cost = cost12 + cur_sum\n",
    "            if total_cost < answer:\n",
    "                answer = total_cost\n",
    "    \n",
    "    print(answer if answer < INF else 0)\n",
    "solve()"
   ]
  },
  {
   "cell_type": "code",
   "execution_count": 22,
   "metadata": {},
   "outputs": [
    {
     "name": "stdout",
     "output_type": "stream",
     "text": [
      "2\n"
     ]
    }
   ],
   "source": [
    "def solve():\n",
    "    import sys\n",
    "    days = input()\n",
    "    days = days.split(' ')\n",
    "    m = int(days[1])\n",
    "    n = int(days[0])\n",
    "    km = input()\n",
    "    km = km.split(' ')\n",
    "    a1 = int(km[0])\n",
    "    a2 = int(km[1])\n",
    "    km.remove(km[0])\n",
    "    km.remove(km[0])\n",
    "    b = km\n",
    "    b = list(map(int, b))\n",
    "    if m <= 0:\n",
    "        print(0)\n",
    "        return\n",
    "    \n",
    "    # Отсортируем b\n",
    "    b.sort()\n",
    "    \n",
    "    # Построим множество кандидатов для p и q\n",
    "    candidates_set = {a1, a2}\n",
    "    candidates_set.update(b)\n",
    "    # Превратим в список и отсортируем\n",
    "    candidates = sorted(candidates_set)\n",
    "    \n",
    "    INF = 10**20\n",
    "    answer = INF\n",
    "    import bisect\n",
    "    def leftPos(x):\n",
    "        return bisect.bisect_left(b, x)\n",
    "    def rightPos(x):\n",
    "        return bisect.bisect_right(b, x) - 1\n",
    "    \n",
    "    for p in candidates:\n",
    "        left_p = leftPos(p)\n",
    "        for q in candidates:\n",
    "            if q < p:\n",
    "                continue\n",
    "            \n",
    "            cost12 = abs(a1 - p) + abs(a2 - q)\n",
    "            \n",
    "            rpos = rightPos(q)\n",
    "            if rpos < 0 or rpos < left_p:\n",
    "                # Значит либо вообще нет элементов >= p, либо все они > q\n",
    "                insideCount = 0\n",
    "            else:\n",
    "                # внутри [p,q] лежат элементы b[left_p .. rpos], если left_p <= rpos\n",
    "                insideCount = max(0, rpos - left_p + 1)\n",
    "            \n",
    "            if insideCount >= m:\n",
    "                # Уже достаточно \"бесплатных\" внутри [p,q]\n",
    "                answer = min(answer, cost12)\n",
    "                continue\n",
    "            \n",
    "            need = m - insideCount\n",
    "            \n",
    "            left_costs = []\n",
    "            for i in range(left_p):\n",
    "                # b[i] < p\n",
    "                left_costs.append(p - b[i])  # стоимость загнать в [p,q]\n",
    "            left_costs.sort()\n",
    "            \n",
    "            right_costs = []\n",
    "            start_r = rpos + 1\n",
    "            for i in range(start_r, len(b)):\n",
    "                right_costs.append(b[i] - q)\n",
    "            right_costs.sort()\n",
    "            \n",
    "            iL = 0\n",
    "            iR = 0\n",
    "            cur_sum = 0\n",
    "            taken = 0\n",
    "            while taken < need:\n",
    "                cL = left_costs[iL] if iL < len(left_costs) else INF\n",
    "                cR = right_costs[iR] if iR < len(right_costs) else INF\n",
    "                best = min(cL, cR)\n",
    "                if best == INF:\n",
    "                    cur_sum = INF\n",
    "                    break\n",
    "                cur_sum += best\n",
    "                taken += 1\n",
    "                if cL < cR:\n",
    "                    iL += 1\n",
    "                else:\n",
    "                    iR += 1\n",
    "            \n",
    "            if cur_sum == INF:\n",
    "                continue\n",
    "            \n",
    "            total_cost = cost12 + cur_sum\n",
    "            if total_cost < answer:\n",
    "                answer = total_cost\n",
    "    \n",
    "    print(answer if answer < INF else 0)\n",
    "solve()"
   ]
  },
  {
   "cell_type": "code",
   "execution_count": null,
   "metadata": {},
   "outputs": [],
   "source": []
  },
  {
   "cell_type": "code",
   "execution_count": null,
   "metadata": {},
   "outputs": [],
   "source": [
    "def solve():\n",
    "    import sys\n",
    "    input_data = input()\n",
    "    input_data = sys.stdin.read().strip().split()\n",
    "    n = int(input_data[0])\n",
    "    coords = [(int(input_data[2*i+1]), int(input_data[2*i+2])) for i in range(n)]\n",
    "    \n",
    "    # Функция для вычисления НОД (чтобы приводить векторы к канонической форме)\n",
    "    from math import gcd\n",
    "    \n",
    "    if n < 3:\n",
    "        print(0)\n",
    "        return\n",
    "    \n",
    "    # Если хочется &laquo;на всякий случай&raquo; проверить, вдруг все точки совпадают\n",
    "    # (по условию задачи сказано, что таких дублей нет, так что можно не делать).\n",
    "    \n",
    "    # Найдём L — максимально кол-во точек на одной прямой\n",
    "    L = 1  # в худшем случае хотя бы 1 (но реально нам нужно >=2 при n>=2)\n",
    "    \n",
    "    for i in range(n):\n",
    "        slopes_count = {}\n",
    "        x1, y1 = coords[i]\n",
    "        \n",
    "        for j in range(n):\n",
    "            if j == i:\n",
    "                continue\n",
    "            x2, y2 = coords[j]\n",
    "            dx, dy = x2 - x1, y2 - y1\n",
    "            \n",
    "            if dx == 0:\n",
    "                # Вертикальная прямая\n",
    "                slope = ('vert', 0)\n",
    "            else:\n",
    "                # Стараемся хранить (dx, dy) в сокращённом виде с учётом знака\n",
    "                sign = -1 if dx*dy < 0 else 1\n",
    "                dx, dy = abs(dx), abs(dy)\n",
    "                g = gcd(dx, dy)\n",
    "                dx //= g\n",
    "                dy //= g\n",
    "                slope = (sign*dy, dx)  \n",
    "                # Здесь можно договориться, что slope=(p,q) кодирует угол тангенса p/q\n",
    "                # Либо наоборот (dx,dy), главное делать это единообразно.\n",
    "            \n",
    "            slopes_count[slope] = slopes_count.get(slope, 0) + 1\n",
    "        \n",
    "        local_max = 0 if not slopes_count else max(slopes_count.values())\n",
    "        # local_max — это кол-во точек, которые вместе с i лежат на одной прямой\n",
    "        # среди всех прямых, проходящих через i. Надо добавить +1 (сама точка i)\n",
    "        L = max(L, local_max+1)\n",
    "    \n",
    "    # Применяем формулу\n",
    "    if L <= 2*n/3:\n",
    "        print(n // 3)\n",
    "    else:\n",
    "        print(n - L)\n",
    "solve()"
   ]
  },
  {
   "cell_type": "code",
   "execution_count": null,
   "metadata": {},
   "outputs": [],
   "source": [
    "n = input()\n",
    "for i in range(int(n)):\n",
    "    num = input()\n",
    "    x = int(num[0])\n",
    "    y = (num[1])"
   ]
  },
  {
   "cell_type": "code",
   "execution_count": null,
   "metadata": {},
   "outputs": [],
   "source": [
    "\n",
    "from itertools import combinations\n",
    "from collections import defaultdict\n",
    "\n",
    "def max_happy_triplets(n, points):\n",
    "    if n < 3:\n",
    "        return 0  # Меньше трех точек, счастливых троек быть не может\n",
    "\n",
    "    # Общая комбинация троек\n",
    "    total_triplets = n * (n - 1) * (n - 2) // 6\n",
    "    \n",
    "    # Словарь для хранения линий\n",
    "    lines = defaultdict(int)\n",
    "\n",
    "    for (i, (x1, y1)), (j, (x2, y2)) in combinations(enumerate(points), 2):\n",
    "        # Вычисляем коэффициенты прямой (a, b, c) для уравнения Ax + By + C = 0\n",
    "        a = y2 - y1\n",
    "        b = x1 - x2\n",
    "        c = x2 * y1 - x1 * y2\n",
    "        \n",
    "        # Привести к более простому виду, чтобы не зависеть от масштабов\n",
    "        gcd = abs(a) if abs(a) != 0 else abs(b)\n",
    "        if gcd == 0:  # Это значит a и b оба нулевые\n",
    "            continue\n",
    "\n",
    "        a //= gcd\n",
    "        b //= gcd\n",
    "        c //= gcd\n",
    "        \n",
    "        # Обеспечим согласованность знаков:\n",
    "        if a < 0 or (a == 0 and b < 0):\n",
    "            a, b, c = -a, -b, -c\n",
    "        \n",
    "        lines[(a, b, c)] += 1\n",
    "\n",
    "    collinear_triplets = 0\n",
    "    for count in lines.values():\n",
    "        if count >= 2:  # Нужно как минимум 2 точки для формирования линии\n",
    "            collinear_triplets += count * (count - 1) // 2  # Комбинации двух из count\n",
    "                        \n",
    "    # Вычисляем итоговое количество счастливых троек\n",
    "    happy_triplets = total_triplets - collinear_triplets\n",
    "    return happy_triplets\n",
    "\n",
    "# Пример входных данных\n",
    "n = int(input().strip())\n",
    "points = [tuple(map(int, input().strip().split())) for _ in range(n)]\n",
    "print(max_happy_triplets(n, points))\n",
    "\n"
   ]
  },
  {
   "cell_type": "markdown",
   "metadata": {},
   "source": [
    "SELECT buyers.name\n",
    "FROM buyers\n",
    "JOIN orders ON buyers.buyer_id = orders.buyer_id\n",
    "JOIN products ON orders.product_id = products.product_id\n",
    "GROUP BY buyers.buyer_id, buyers.name\n",
    "ORDER BY sum(products.price*orders.quantity) DESC\n",
    "LIMIT 1"
   ]
  },
  {
   "cell_type": "markdown",
   "metadata": {},
   "source": [
    "SELECT b.name\n",
    "FROM buyers b\n",
    "JOIN orders o \n",
    "    ON b.buyer_id = orders.buyer_id\n",
    "JOIN products p\n",
    "    ON o.product_id = p.product_id\n",
    "GROUP BY b.name\n",
    "ORDER BY SUM(o.quantity * p.price) DESC\n",
    "LIMIT 1"
   ]
  },
  {
   "cell_type": "markdown",
   "metadata": {},
   "source": []
  },
  {
   "cell_type": "markdown",
   "metadata": {},
   "source": [
    "order by products.product_id, products.product_name\n",
    "limit 1"
   ]
  },
  {
   "cell_type": "markdown",
   "metadata": {},
   "source": [
    "SELECT products.product_name\n",
    "FROM products\n",
    "JOIN orders ON products.product_id = orders.product_id\n",
    "WHERE orders.product_id IS NULL AND YEAR(orders.order_date) = 2023\n",
    "order by products.product_id, products.product_name\n",
    "limit 1"
   ]
  },
  {
   "cell_type": "markdown",
   "metadata": {},
   "source": [
    "SELECT products.product_name\n",
    "FROM products\n",
    "JOIN orders ON products.product_id = orders.product_id\n",
    "WHERE orders.product_id IS NULL AND EXTRACT(YEAR FROM orders.order_date) = 2023"
   ]
  },
  {
   "cell_type": "markdown",
   "metadata": {},
   "source": [
    "SELECT p.product_name\n",
    "FROM products p\n",
    "JOIN orders o\n",
    "       ON p.product_id = o.product_id\n",
    "       AND YEAR(o.order_date) = 2023\n",
    "WHERE o.product_id IS NULL\n",
    "LIMIT 1"
   ]
  },
  {
   "cell_type": "markdown",
   "metadata": {},
   "source": [
    "select p.product_name\n",
    "from products p\n",
    "join orders o on p.product_id = o.product_id\n",
    "where o.product_id is null and year(o.order_date) = 2023\n",
    "limit 1"
   ]
  },
  {
   "cell_type": "markdown",
   "metadata": {},
   "source": []
  },
  {
   "cell_type": "markdown",
   "metadata": {},
   "source": [
    "SELECT SUM(products.price*orders.quantity)\n",
    "FROM products\n",
    "JOIN orders ON products.product_id = orders.product_id\n",
    "JOIN buyers ON orders.buyer_id = buyers.buyer_id\n",
    "WHERE buyers.city = 'Москва' AND EXTRACT(YEAR FROM orders.order_date) = '2024'"
   ]
  },
  {
   "cell_type": "markdown",
   "metadata": {},
   "source": []
  },
  {
   "cell_type": "markdown",
   "metadata": {},
   "source": [
    "SELECT product_name\n",
    "FROM products\n",
    "JOIN orders ON products.product_id = orders.product_id\n"
   ]
  }
 ],
 "metadata": {
  "kernelspec": {
   "display_name": "Python 3",
   "language": "python",
   "name": "python3"
  },
  "language_info": {
   "codemirror_mode": {
    "name": "ipython",
    "version": 3
   },
   "file_extension": ".py",
   "mimetype": "text/x-python",
   "name": "python",
   "nbconvert_exporter": "python",
   "pygments_lexer": "ipython3",
   "version": "3.11.4"
  }
 },
 "nbformat": 4,
 "nbformat_minor": 2
}
