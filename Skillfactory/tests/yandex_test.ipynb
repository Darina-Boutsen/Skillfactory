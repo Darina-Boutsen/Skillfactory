{
 "cells": [
  {
   "cell_type": "code",
   "execution_count": 23,
   "metadata": {},
   "outputs": [
    {
     "name": "stdout",
     "output_type": "stream",
     "text": [
      "13\n"
     ]
    }
   ],
   "source": [
    "data = [\n",
    "    input(),\n",
    "    input()\n",
    "]\n",
    "n = int(data[0])\n",
    "stones = data[1].split(' ')\n",
    "stones = list(map(int, stones))\n",
    "A = min(stones)\n",
    "B = max(stones)\n",
    "result_sum = 0\n",
    "I = []\n",
    "J = []\n",
    "\n",
    "if A == B:\n",
    "    result_sum = A*n\n",
    "elif A < B:\n",
    "    for i in range(n):\n",
    "        if stones[i] == A:\n",
    "            I.append(i)\n",
    "        elif stones[i] == B:\n",
    "            J.append(i)\n",
    "    i_1 = min(I)\n",
    "    i_2 = max(I)\n",
    "    j_1 = min(J)\n",
    "    j_2 = max(J)\n",
    "    def prefix_sums(arr):\n",
    "        n = len(arr)\n",
    "        sums = [0] * (n + 1)\n",
    "        for i in range(1, n + 1):\n",
    "            sums[i] = sums[i - 1] + arr[i - 1]\n",
    "        return sums\n",
    "\n",
    "    sums = prefix_sums(stones)\n",
    "    sum_i1j1 = sums[max(i_1, j_1)+1] - sums[min(i_1, j_1)]\n",
    "    sum_i1j2 = sums[max(i_1, j_2)+1] - sums[min(i_1, j_2)]\n",
    "    sum_i2j1 = sums[max(i_2, j_1)+1] - sums[min(i_2, j_1)]\n",
    "    sum_i2j2 = sums[max(i_2, j_2)+1] - sums[min(i_2, j_2)]\n",
    "    result_sum = max(sum_i1j1, sum_i1j2, sum_i2j1, sum_i2j2)\n",
    "print(result_sum)"
   ]
  },
  {
   "cell_type": "code",
   "execution_count": 34,
   "metadata": {},
   "outputs": [
    {
     "data": {
      "text/plain": [
       "['10']"
      ]
     },
     "execution_count": 34,
     "metadata": {},
     "output_type": "execute_result"
    }
   ],
   "source": [
    "data = input().split('/n')\n",
    "n = int(data[0])\n",
    "stones = data[1].split(' ')\n",
    "stones"
   ]
  },
  {
   "cell_type": "code",
   "execution_count": null,
   "metadata": {},
   "outputs": [],
   "source": [
    "def main():\n",
    "    import sys\n",
    "\n",
    "    n = sys.stdin.read().split()\n",
    "    n = int(n[0])\n",
    "    a = list(map(float, n[1:n+1]))\n",
    "    a2 = sum(x**2 for x in a)\n",
    "    k = 1 / a2\n",
    "    c = sum(k * x for x in a)\n",
    "    sum_a = sum(a)\n",
    "    total_sum = c * sum_a\n",
    "    print(\"{0:.3f}\".format(total_sum))\n",
    "\n",
    "if __name__ == \"__main__\":\n",
    "    main()"
   ]
  },
  {
   "cell_type": "code",
   "execution_count": null,
   "metadata": {},
   "outputs": [],
   "source": [
    "import sys\n",
    "import numpy as np\n",
    "from sklearn.tree import DecisionTreeRegressor\n",
    "\n",
    "def func():\n",
    "    m, N, k = map(int, sys.stdin.readline().split())\n",
    "    X = []\n",
    "    for _ in range(N):\n",
    "        x_i = list(map(float, sys.stdin.readline().split()))\n",
    "        X.append(x_i)\n",
    "    X = np.array(X)\n",
    "    y_pred = np.zeros(N)\n",
    "    learning_rate = 0.1\n",
    "\n",
    "    for iteration in range(m):\n",
    "        for i in range(N):\n",
    "            print(y_pred[i])\n",
    "            sys.stdout.flush()\n",
    "        \n",
    "        if iteration < m - 1:\n",
    "            gradients = []\n",
    "            for _ in range(N):\n",
    "                gradient = float(sys.stdin.readline())\n",
    "                gradients.append(gradient)\n",
    "            residuals = -np.array(gradients)\n",
    "            \n",
    "            model = DecisionTreeRegressor(max_depth=3)\n",
    "            model.fit(X, residuals)\n",
    "            \n",
    "            y_pred += learning_rate * model.predict(X)\n",
    "\n",
    "if __name__ == \"__func__\":\n",
    "    func()"
   ]
  },
  {
   "cell_type": "code",
   "execution_count": 38,
   "metadata": {},
   "outputs": [
    {
     "name": "stdout",
     "output_type": "stream",
     "text": [
      "[5, 4, 6]\n"
     ]
    }
   ],
   "source": [
    "stones = ['5', '4', '6']\n",
    "for i in range(len(stones)):\n",
    "    stones[i] = int(stones[i])\n",
    "print(stones)"
   ]
  },
  {
   "cell_type": "code",
   "execution_count": 39,
   "metadata": {},
   "outputs": [
    {
     "name": "stdout",
     "output_type": "stream",
     "text": [
      "0\n"
     ]
    }
   ],
   "source": [
    "data = [\n",
    "    input(),\n",
    "    input()\n",
    "]\n",
    "n = int(data[0])\n",
    "stones = data[1].split(' ')\n",
    "for i in range(n):\n",
    "    stones[i] = int(stones[i])\n",
    "A = min(stones)\n",
    "B = max(stones)\n",
    "result_sum = 0\n",
    "I = []\n",
    "J = []\n",
    "\n",
    "\n",
    "print(result_sum)"
   ]
  }
 ],
 "metadata": {
  "kernelspec": {
   "display_name": "Python 3",
   "language": "python",
   "name": "python3"
  },
  "language_info": {
   "codemirror_mode": {
    "name": "ipython",
    "version": 3
   },
   "file_extension": ".py",
   "mimetype": "text/x-python",
   "name": "python",
   "nbconvert_exporter": "python",
   "pygments_lexer": "ipython3",
   "version": "3.11.4"
  }
 },
 "nbformat": 4,
 "nbformat_minor": 2
}
